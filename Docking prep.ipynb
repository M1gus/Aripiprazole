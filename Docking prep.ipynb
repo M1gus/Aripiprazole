{
 "cells": [
  {
   "cell_type": "markdown",
   "metadata": {},
   "source": [
    "# Docking of small molecules at the entrance of the Q site of CxI\n",
    "\n",
    "### Author: Yizhou Yu\n",
    "### Affiliation: MRC Toxicology Unit, University of Cambridge\n",
    "\n",
    "Installations: biopython and mgltools http://mgltools.scripps.edu/downloads\n",
    "\n",
    "Note: this is an example file to prepare files for docking using progams that I wrote. \n",
    "\n",
    "The docking parameters are:"
   ]
  },
  {
   "cell_type": "code",
   "execution_count": 2,
   "metadata": {},
   "outputs": [
    {
     "name": "stdout",
     "output_type": "stream",
     "text": [
      "center_x = 221\n",
      "center_y = 252\n",
      "center_z = 299\n",
      "size_x = 12\n",
      "size_y = 44\n",
      "size_z = 10\n",
      "\n",
      "\n",
      "num_modes = 10\n",
      "\n",
      "exhaustiveness = 300\n"
     ]
    }
   ],
   "source": [
    "more results_03072021/site2_config.txt"
   ]
  },
  {
   "cell_type": "code",
   "execution_count": 3,
   "metadata": {},
   "outputs": [],
   "source": [
    "python3 py_scripts/prepare_vina_config.py -l l_T2Q.pdb > site2_config.txt"
   ]
  },
  {
   "cell_type": "code",
   "execution_count": 5,
   "metadata": {},
   "outputs": [
    {
     "name": "stdout",
     "output_type": "stream",
     "text": [
      "setting PYTHONHOME environment\n",
      "setting PYTHONHOME environment\n",
      "setting PYTHONHOME environment\n",
      "setting PYTHONHOME environment\n",
      "setting PYTHONHOME environment\n"
     ]
    }
   ],
   "source": [
    "for lig in l_*.pdb\n",
    "do\n",
    "/home/yizhouyu/mgltools_x86_64Linux2_1.5.6/bin/pythonsh \\\n",
    "py_scripts/prepare_ligand4.py -l $lig\n",
    "done"
   ]
  },
  {
   "cell_type": "code",
   "execution_count": 7,
   "metadata": {},
   "outputs": [
    {
     "name": "stdout",
     "output_type": "stream",
     "text": [
      "setting PYTHONHOME environment\n",
      "adding gasteiger charges to peptide\n"
     ]
    }
   ],
   "source": [
    "for recep in r_*.pdb\n",
    "do\n",
    "/home/yizhouyu/mgltools_x86_64Linux2_1.5.6/bin/pythonsh \\\n",
    "py_scripts/prepare_receptor4.py -r $recep\n",
    "done"
   ]
  },
  {
   "cell_type": "code",
   "execution_count": 8,
   "metadata": {},
   "outputs": [],
   "source": [
    "mkdir input_pdb_files\n",
    "mv *.pdb input_pdb_files"
   ]
  },
  {
   "cell_type": "markdown",
   "metadata": {},
   "source": [
    "Run this with the HPC. Note that I did not restrict the number of CPUs here so I ran this on the PowerEdge server"
   ]
  },
  {
   "cell_type": "code",
   "execution_count": 9,
   "metadata": {},
   "outputs": [
    {
     "name": "stdout",
     "output_type": "stream",
     "text": [
      "#################################################################\n",
      "# If you used AutoDock Vina in your work, please cite:          #\n",
      "#                                                               #\n",
      "# O. Trott, A. J. Olson,                                        #\n",
      "# AutoDock Vina: improving the speed and accuracy of docking    #\n",
      "# with a new scoring function, efficient optimization and       #\n",
      "# multithreading, Journal of Computational Chemistry 31 (2010)  #\n",
      "# 455-461                                                       #\n",
      "#                                                               #\n",
      "# DOI 10.1002/jcc.21334                                         #\n",
      "#                                                               #\n",
      "# Please see http://vina.scripps.edu for more information.      #\n",
      "#################################################################\n",
      "\n",
      "Detected 16 CPUs\n",
      "Reading input ... done.\n",
      "Setting up the scoring function ... done.\n",
      "Analyzing the binding site ... done.\n",
      "Using random seed: 888540112\n",
      "Performing search ... \n",
      "0%   10   20   30   40   50   60   70   80   90   100%\n",
      "|----|----|----|----|----|----|----|----|----|----|\n",
      "**********\n"
     ]
    }
   ],
   "source": [
    "for receptor in r_*.pdbqt\n",
    "do\n",
    "for ligand in l_*.pdbqt\n",
    "do \n",
    "for config in *_config.txt\n",
    "do\n",
    "./vina --ligand $ligand \\\n",
    "--receptor $receptor \\\n",
    "--log log_${ligand%.*}_${receptor%.*}_${config%_*}.txt \\\n",
    "--config $config --out out_${ligand%.*}_${receptor%.*}_${config%_*}.pdbqt\n",
    "done\n",
    "done\n",
    "done"
   ]
  },
  {
   "cell_type": "code",
   "execution_count": 19,
   "metadata": {},
   "outputs": [],
   "source": [
    "chmod +x out_ligs_processed/vina_split"
   ]
  },
  {
   "cell_type": "code",
   "execution_count": 1,
   "metadata": {
    "scrolled": true
   },
   "outputs": [
    {
     "name": "stdout",
     "output_type": "stream",
     "text": [
      "Prefix for ligands will be out_ligs_processed/splitted_ligs/out_l_aripiprazole_r_6ZTQ_red_site1_ligand_\n",
      "Prefix for flexible side chains will be out_ligs_processed/splitted_ligs/out_l_aripiprazole_r_6ZTQ_red_site1_flex_\n",
      "Prefix for ligands will be out_ligs_processed/splitted_ligs/out_l_aripiprazole_r_6ZTQ_red_site2_ligand_\n",
      "Prefix for flexible side chains will be out_ligs_processed/splitted_ligs/out_l_aripiprazole_r_6ZTQ_red_site2_flex_\n",
      "Prefix for ligands will be out_ligs_processed/splitted_ligs/out_l_brexpiprazole_r_6ZTQ_red_site1_ligand_\n",
      "Prefix for flexible side chains will be out_ligs_processed/splitted_ligs/out_l_brexpiprazole_r_6ZTQ_red_site1_flex_\n",
      "Prefix for ligands will be out_ligs_processed/splitted_ligs/out_l_brexpiprazole_r_6ZTQ_red_site2_ligand_\n",
      "Prefix for flexible side chains will be out_ligs_processed/splitted_ligs/out_l_brexpiprazole_r_6ZTQ_red_site2_flex_\n",
      "Prefix for ligands will be out_ligs_processed/splitted_ligs/out_l_cariprazine_r_6ZTQ_red_site1_ligand_\n",
      "Prefix for flexible side chains will be out_ligs_processed/splitted_ligs/out_l_cariprazine_r_6ZTQ_red_site1_flex_\n",
      "Prefix for ligands will be out_ligs_processed/splitted_ligs/out_l_cariprazine_r_6ZTQ_red_site2_ligand_\n",
      "Prefix for flexible side chains will be out_ligs_processed/splitted_ligs/out_l_cariprazine_r_6ZTQ_red_site2_flex_\n",
      "Prefix for ligands will be out_ligs_processed/splitted_ligs/out_l_HQH_r_6ZTQ_red_site1_ligand_\n",
      "Prefix for flexible side chains will be out_ligs_processed/splitted_ligs/out_l_HQH_r_6ZTQ_red_site1_flex_\n",
      "Prefix for ligands will be out_ligs_processed/splitted_ligs/out_l_HQH_r_6ZTQ_red_site2_ligand_\n",
      "Prefix for flexible side chains will be out_ligs_processed/splitted_ligs/out_l_HQH_r_6ZTQ_red_site2_flex_\n",
      "Prefix for ligands will be out_ligs_processed/splitted_ligs/out_l_T2Q_r_6ZTQ_red_site1_ligand_\n",
      "Prefix for flexible side chains will be out_ligs_processed/splitted_ligs/out_l_T2Q_r_6ZTQ_red_site1_flex_\n",
      "Prefix for ligands will be out_ligs_processed/splitted_ligs/out_l_T2Q_r_6ZTQ_red_site2_ligand_\n",
      "Prefix for flexible side chains will be out_ligs_processed/splitted_ligs/out_l_T2Q_r_6ZTQ_red_site2_flex_\n"
     ]
    }
   ],
   "source": [
    "for out in out_ligs_processed/splitted_ligs/*.pdbqt\n",
    "do\n",
    "./out_ligs_processed/vina_split --input $out \n",
    "done"
   ]
  },
  {
   "cell_type": "code",
   "execution_count": 6,
   "metadata": {},
   "outputs": [],
   "source": [
    "cp out_ligs_processed/splitted_ligs/*ligand* out_ligs_processed/top_conformations/"
   ]
  },
  {
   "cell_type": "code",
   "execution_count": 7,
   "metadata": {
    "scrolled": true
   },
   "outputs": [
    {
     "name": "stdout",
     "output_type": "stream",
     "text": [
      "1 molecule converted\n",
      "1 molecule converted\n",
      "1 molecule converted\n",
      "1 molecule converted\n",
      "1 molecule converted\n",
      "1 molecule converted\n",
      "1 molecule converted\n",
      "1 molecule converted\n",
      "1 molecule converted\n",
      "1 molecule converted\n",
      "1 molecule converted\n",
      "1 molecule converted\n",
      "1 molecule converted\n",
      "1 molecule converted\n",
      "1 molecule converted\n",
      "1 molecule converted\n",
      "1 molecule converted\n",
      "1 molecule converted\n",
      "1 molecule converted\n",
      "1 molecule converted\n",
      "1 molecule converted\n",
      "1 molecule converted\n",
      "1 molecule converted\n",
      "1 molecule converted\n",
      "1 molecule converted\n",
      "1 molecule converted\n",
      "1 molecule converted\n",
      "1 molecule converted\n",
      "1 molecule converted\n",
      "1 molecule converted\n",
      "1 molecule converted\n",
      "1 molecule converted\n",
      "1 molecule converted\n",
      "1 molecule converted\n",
      "1 molecule converted\n",
      "1 molecule converted\n",
      "1 molecule converted\n",
      "1 molecule converted\n",
      "1 molecule converted\n",
      "1 molecule converted\n",
      "1 molecule converted\n",
      "1 molecule converted\n",
      "1 molecule converted\n",
      "1 molecule converted\n",
      "1 molecule converted\n",
      "1 molecule converted\n",
      "1 molecule converted\n",
      "1 molecule converted\n",
      "1 molecule converted\n",
      "1 molecule converted\n",
      "1 molecule converted\n",
      "1 molecule converted\n",
      "1 molecule converted\n",
      "1 molecule converted\n",
      "1 molecule converted\n",
      "1 molecule converted\n",
      "1 molecule converted\n",
      "1 molecule converted\n",
      "1 molecule converted\n",
      "1 molecule converted\n",
      "1 molecule converted\n",
      "1 molecule converted\n",
      "1 molecule converted\n",
      "1 molecule converted\n",
      "1 molecule converted\n",
      "1 molecule converted\n",
      "1 molecule converted\n",
      "1 molecule converted\n",
      "1 molecule converted\n",
      "1 molecule converted\n",
      "1 molecule converted\n",
      "1 molecule converted\n",
      "1 molecule converted\n",
      "1 molecule converted\n",
      "1 molecule converted\n",
      "1 molecule converted\n",
      "1 molecule converted\n",
      "1 molecule converted\n",
      "1 molecule converted\n",
      "1 molecule converted\n",
      "1 molecule converted\n",
      "1 molecule converted\n",
      "1 molecule converted\n",
      "1 molecule converted\n",
      "1 molecule converted\n",
      "1 molecule converted\n",
      "1 molecule converted\n",
      "1 molecule converted\n",
      "1 molecule converted\n",
      "1 molecule converted\n",
      "1 molecule converted\n",
      "1 molecule converted\n",
      "1 molecule converted\n",
      "1 molecule converted\n",
      "1 molecule converted\n",
      "1 molecule converted\n",
      "1 molecule converted\n",
      "1 molecule converted\n",
      "1 molecule converted\n",
      "1 molecule converted\n"
     ]
    }
   ],
   "source": [
    "for lig in out_ligs_processed/top_conformations/*.pdbqt\n",
    "do\n",
    "obabel -ipdbqt ${lig%.*}.pdbqt -opdb -h > ${lig%.*}.pdb\n",
    "done"
   ]
  }
 ],
 "metadata": {
  "kernelspec": {
   "display_name": "Bash",
   "language": "bash",
   "name": "bash"
  },
  "language_info": {
   "codemirror_mode": "shell",
   "file_extension": ".sh",
   "mimetype": "text/x-sh",
   "name": "bash"
  }
 },
 "nbformat": 4,
 "nbformat_minor": 4
}
